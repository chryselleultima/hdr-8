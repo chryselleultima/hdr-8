{
 "cells": [
  {
   "cell_type": "code",
   "execution_count": 1,
   "id": "82f5fd5e-1af4-4150-80c4-bffddca1a1ec",
   "metadata": {
    "tags": []
   },
   "outputs": [],
   "source": [
    "# Data wrangling libraries\n",
    "import numpy as np\n",
    "import pandas as pd\n",
    "import os\n",
    "\n",
    "# Data visualization libraries\n",
    "import matplotlib.pyplot as plt\n",
    "import seaborn as sns\n",
    "\n",
    "# Resampling\n",
    "from imblearn.over_sampling import SMOTE\n",
    "\n",
    "%matplotlib inline"
   ]
  },
  {
   "cell_type": "code",
   "execution_count": 2,
   "id": "8ae42133-6ceb-43ac-be77-e13f00eb087e",
   "metadata": {
    "tags": []
   },
   "outputs": [],
   "source": [
    "# modelling\n",
    "from sklearn.model_selection import train_test_split, StratifiedKFold, cross_val_score\n",
    "from sklearn.linear_model import LogisticRegression\n",
    "from sklearn.tree import DecisionTreeClassifier\n",
    "from sklearn.ensemble import RandomForestClassifier, GradientBoostingClassifier\n",
    "from sklearn.svm import SVC\n",
    "from sklearn.neighbors import KNeighborsClassifier\n",
    "from sklearn.pipeline import Pipeline"
   ]
  },
  {
   "cell_type": "code",
   "execution_count": 42,
   "id": "ea5f263b-4d2c-4c95-9337-0bf7aeaaf274",
   "metadata": {
    "tags": []
   },
   "outputs": [],
   "source": [
    "# evaluation metrics libraries\n",
    "from sklearn.metrics import classification_report, confusion_matrix, roc_curve\n",
    "from sklearn.metrics import (precision_score, recall_score, f1_score,accuracy_score)"
   ]
  },
  {
   "cell_type": "code",
   "execution_count": 4,
   "id": "e5aa8fec-30a9-461b-b972-b9017e7ded20",
   "metadata": {
    "tags": []
   },
   "outputs": [],
   "source": [
    "# Construct the directory containing the CSV files\n",
    "current_dir = os.getcwd()  # Get the current working directory\n",
    "data_dir = os.path.join(current_dir, '..', 'data') \n",
    "\n",
    "# List of file names to read\n",
    "file_names = ['df_xrf.csv', 'globaL_df.csv']\n",
    "\n",
    "# Initialize a dictionary to store DataFrames\n",
    "dataframes = {}\n",
    "\n",
    "# Loop through the file names, read each file, and store in the dictionary\n",
    "for file_name in file_names:\n",
    "    file_path = os.path.join(data_dir, file_name)  # Construct the full file path\n",
    "    dataframes[file_name] = pd.read_csv(file_path, index_col=0)  # Read the CSV file and store in the dictionary\n",
    "\n",
    "# Access the DataFrames using their file names\n",
    "xrf_df = dataframes['df_xrf.csv']\n",
    "global_df = dataframes['globaL_df.csv']"
   ]
  },
  {
   "cell_type": "code",
   "execution_count": 5,
   "id": "f733fe72-401d-411d-9dbb-6991441e0ebb",
   "metadata": {
    "tags": []
   },
   "outputs": [
    {
     "data": {
      "text/plain": [
       "Index(['sio2', 'tio2', 'al2o3', 'fe2o3', 'mgo', 'cao', 'mno', 'k2o', 'p2o5',\n",
       "       'rock_type'],\n",
       "      dtype='object')"
      ]
     },
     "execution_count": 5,
     "metadata": {},
     "output_type": "execute_result"
    }
   ],
   "source": [
    "xrf_df.columns"
   ]
  },
  {
   "cell_type": "code",
   "execution_count": 6,
   "id": "f4000a0a-14c9-4fb4-9243-d5df50da89cb",
   "metadata": {
    "tags": []
   },
   "outputs": [
    {
     "data": {
      "text/plain": [
       "Index(['sample_id', 'rock_name', 'qap_name', 'major_id', 'method_id', 'sio2',\n",
       "       'tio2', 'al2o3', 'fe2o3', 'mgo', 'cao', 'mno', 'k2o', 'na2o', 'p2o5',\n",
       "       'rock_type'],\n",
       "      dtype='object')"
      ]
     },
     "execution_count": 6,
     "metadata": {},
     "output_type": "execute_result"
    }
   ],
   "source": [
    "global_df.columns"
   ]
  },
  {
   "cell_type": "code",
   "execution_count": 7,
   "id": "a169234b-54d4-41a7-8384-b854a1958444",
   "metadata": {
    "tags": []
   },
   "outputs": [],
   "source": [
    "X_train = global_df[['sio2', 'tio2', 'al2o3', 'fe2o3', 'mgo', 'cao', 'mno', 'k2o', 'p2o5']]\n",
    "y_train = global_df['rock_type']"
   ]
  },
  {
   "cell_type": "code",
   "execution_count": 8,
   "id": "29359c6c-b1b6-4171-9064-f71e995c7279",
   "metadata": {
    "tags": []
   },
   "outputs": [],
   "source": [
    "X_xrf = xrf_df.drop('rock_type', axis=1)\n",
    "y_xrf = xrf_df['rock_type']"
   ]
  },
  {
   "cell_type": "code",
   "execution_count": 9,
   "id": "cd0dd0e6-4df9-4c23-a4a4-6aa9a7b941cb",
   "metadata": {
    "tags": []
   },
   "outputs": [],
   "source": [
    "smote = SMOTE(random_state=13)\n",
    "X_train_resampled, y_train_resampled = smote.fit_resample(X_train, y_train)"
   ]
  },
  {
   "cell_type": "code",
   "execution_count": 10,
   "id": "a728d595-c9ef-42ce-adc0-44cf7f52fc4b",
   "metadata": {
    "tags": []
   },
   "outputs": [
    {
     "name": "stdout",
     "output_type": "stream",
     "text": [
      "Original training set class distribution: Counter({'granite': 21620, 'diorite': 2952})\n",
      "Resampled training set class distribution: Counter({'granite': 21620, 'diorite': 21620})\n"
     ]
    }
   ],
   "source": [
    "# Check the distribution of the classes in the resampled training set:\n",
    "from collections import Counter\n",
    "print(\"Original training set class distribution:\", Counter(y_train))\n",
    "print(\"Resampled training set class distribution:\", Counter(y_train_resampled))"
   ]
  },
  {
   "cell_type": "code",
   "execution_count": 11,
   "id": "fefbf3cd-d11b-4725-a020-0e9e1a61d2c7",
   "metadata": {
    "tags": []
   },
   "outputs": [
    {
     "name": "stdout",
     "output_type": "stream",
     "text": [
      "Evaluating Logistic Regression...\n",
      "Validation Classification Report for Logistic Regression:\n",
      "              precision    recall  f1-score   support\n",
      "\n",
      "     diorite       0.98      0.11      0.19       560\n",
      "     granite       0.32      1.00      0.49       238\n",
      "\n",
      "    accuracy                           0.37       798\n",
      "   macro avg       0.65      0.55      0.34       798\n",
      "weighted avg       0.79      0.37      0.28       798\n",
      "\n",
      "Confusion Matrix for Logistic Regression:\n",
      "[[ 60 500]\n",
      " [  1 237]]\n",
      "------------------------------------------\n",
      "Evaluating Random Forest...\n",
      "Validation Classification Report for Random Forest:\n",
      "              precision    recall  f1-score   support\n",
      "\n",
      "     diorite       0.94      0.09      0.16       560\n",
      "     granite       0.32      0.99      0.48       238\n",
      "\n",
      "    accuracy                           0.36       798\n",
      "   macro avg       0.63      0.54      0.32       798\n",
      "weighted avg       0.76      0.36      0.25       798\n",
      "\n",
      "Confusion Matrix for Random Forest:\n",
      "[[ 49 511]\n",
      " [  3 235]]\n",
      "------------------------------------------\n",
      "Evaluating Decision Tree...\n",
      "Validation Classification Report for Decision Tree:\n",
      "              precision    recall  f1-score   support\n",
      "\n",
      "     diorite       1.00      0.09      0.16       560\n",
      "     granite       0.32      1.00      0.48       238\n",
      "\n",
      "    accuracy                           0.36       798\n",
      "   macro avg       0.66      0.54      0.32       798\n",
      "weighted avg       0.80      0.36      0.26       798\n",
      "\n",
      "Confusion Matrix for Decision Tree:\n",
      "[[ 50 510]\n",
      " [  0 238]]\n",
      "------------------------------------------\n",
      "Evaluating KNN...\n",
      "Validation Classification Report for KNN:\n",
      "              precision    recall  f1-score   support\n",
      "\n",
      "     diorite       1.00      0.29      0.45       560\n",
      "     granite       0.37      1.00      0.54       238\n",
      "\n",
      "    accuracy                           0.50       798\n",
      "   macro avg       0.69      0.64      0.50       798\n",
      "weighted avg       0.81      0.50      0.48       798\n",
      "\n",
      "Confusion Matrix for KNN:\n",
      "[[161 399]\n",
      " [  0 238]]\n",
      "------------------------------------------\n",
      "Evaluating SVM...\n",
      "Validation Classification Report for SVM:\n",
      "              precision    recall  f1-score   support\n",
      "\n",
      "     diorite       1.00      0.29      0.46       560\n",
      "     granite       0.38      1.00      0.55       238\n",
      "\n",
      "    accuracy                           0.51       798\n",
      "   macro avg       0.69      0.65      0.50       798\n",
      "weighted avg       0.81      0.51      0.48       798\n",
      "\n",
      "Confusion Matrix for SVM:\n",
      "[[165 395]\n",
      " [  0 238]]\n",
      "------------------------------------------\n",
      "Evaluating Gradient Boosting...\n",
      "Validation Classification Report for Gradient Boosting:\n",
      "              precision    recall  f1-score   support\n",
      "\n",
      "     diorite       1.00      0.10      0.18       560\n",
      "     granite       0.32      1.00      0.49       238\n",
      "\n",
      "    accuracy                           0.37       798\n",
      "   macro avg       0.66      0.55      0.33       798\n",
      "weighted avg       0.80      0.37      0.27       798\n",
      "\n",
      "Confusion Matrix for Gradient Boosting:\n",
      "[[ 55 505]\n",
      " [  0 238]]\n",
      "------------------------------------------\n"
     ]
    }
   ],
   "source": [
    "pipelines = {\n",
    "    'Logistic Regression': Pipeline([\n",
    "        ('classifier', LogisticRegression(max_iter=1000))\n",
    "    ]),\n",
    "    'Random Forest': Pipeline([\n",
    "        ('classifier', RandomForestClassifier(random_state=13))\n",
    "    ]),\n",
    "    'Decision Tree': Pipeline([\n",
    "        ('classifier', DecisionTreeClassifier(random_state=13))\n",
    "    ]),\n",
    "    'KNN': Pipeline([\n",
    "        ('classifier', KNeighborsClassifier())\n",
    "    ]),\n",
    "    'SVM': Pipeline([\n",
    "        ('classifier', SVC(random_state=13))\n",
    "    ]),\n",
    "    'Gradient Boosting': Pipeline([\n",
    "        ('classifier', GradientBoostingClassifier(random_state=13))\n",
    "    ])\n",
    "}\n",
    "\n",
    "# Train and evaluate each model\n",
    "for model_name, pipeline in pipelines.items():\n",
    "    print(f\"Evaluating {model_name}...\")\n",
    "    \n",
    "    # Train the model on the global dataset\n",
    "    pipeline.fit(X_train_resampled, y_train_resampled)\n",
    "    \n",
    "    # Evaluate on the validation set\n",
    "    predictions = pipeline.predict(X_xrf)\n",
    "    print(f\"Validation Classification Report for {model_name}:\")\n",
    "    print(classification_report(y_xrf, predictions))\n",
    "    \n",
    "    # Confusion matrix for validation set\n",
    "    print(f\"Confusion Matrix for {model_name}:\")\n",
    "    print(confusion_matrix(y_xrf, predictions))\n",
    "    \n",
    "    # Hyperparameter tuning \n",
    "    # Note: You can add hyperparameter tuning as needed for each model\n",
    "    \n",
    "    # Final evaluation on the test set with hyperparameter tuning\n",
    "#     y_test_pred = pipeline.predict(X_test)\n",
    "#     print(f\"Test Classification Report for {model_name}:\")\n",
    "#     print(classification_report(y_test, y_test_pred))\n",
    "    \n",
    "#     # Confusion matrix for test set\n",
    "#     print(f\"Confusion Matrix for {model_name}:\")\n",
    "#     print(confusion_matrix(y_test, y_test_pred))\n",
    "    \n",
    "    print(\"------------------------------------------\")"
   ]
  },
  {
   "cell_type": "code",
   "execution_count": 36,
   "id": "01926f1c-8f32-4aa1-8b80-4690a48c4b53",
   "metadata": {},
   "outputs": [
    {
     "data": {
      "image/png": "[encoded data removed]",
      "text/plain": [
       "<Figure size 640x480 with 2 Axes>"
      ]
     },
     "metadata": {},
     "output_type": "display_data"
    }
   ],
   "source": [
    "cm = confusion_matrix(y_xrf, predictions)\n",
    "sns.heatmap(cm, annot=True, fmt='d', cmap='Blues')\n",
    "plt.xlabel('Predicted')\n",
    "plt.ylabel('Actual')\n",
    "plt.title('Confusion Matrix')\n",
    "plt.show()\n"
   ]
  },
  {
   "cell_type": "code",
   "execution_count": 46,
   "id": "942d18ca-f36e-4c76-ba93-116ab079bb2c",
   "metadata": {
    "tags": []
   },
   "outputs": [
    {
     "data": {
      "image/png": "[encoded data removed]",
      "text/plain": [
       "<Figure size 640x480 with 1 Axes>"
      ]
     },
     "metadata": {},
     "output_type": "display_data"
    }
   ],
   "source": [
    "plt.scatter(y_xrf, predictions)\n",
    "plt.xlabel('Actual Values')\n",
    "plt.ylabel('Predicted Values')\n",
    "plt.title('Actual vs Predicted')\n",
    "plt.show()\n"
   ]
  },
  {
   "cell_type": "code",
   "execution_count": null,
   "id": "3d46c478-c8f1-413f-95e6-20601bce4e6b",
   "metadata": {},
   "outputs": [],
   "source": []
  }
 ],
 "metadata": {
  "kernelspec": {
   "display_name": "Python 3 (ipykernel)",
   "language": "python",
   "name": "python3"
  },
  "language_info": {
   "codemirror_mode": {
    "name": "ipython",
    "version": 3
   },
   "file_extension": ".py",
   "mimetype": "text/x-python",
   "name": "python",
   "nbconvert_exporter": "python",
   "pygments_lexer": "ipython3",
   "version": "3.9.19"
  }
 },
 "nbformat": 4,
 "nbformat_minor": 5
}
