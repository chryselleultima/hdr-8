{
 "cells": [
  {
   "cell_type": "markdown",
   "id": "374db4b3-5cc0-46b5-9ad3-3b23ed83423c",
   "metadata": {},
   "source": [
    "# Training and Evaluating on the Training set"
   ]
  },
  {
   "cell_type": "markdown",
   "id": "c495fc4f-ac2d-4d34-832c-9917eb186f7f",
   "metadata": {},
   "source": [
    "The goal of this notebook is to see how well models perform the classification just through the training dataset"
   ]
  },
  {
   "cell_type": "code",
   "execution_count": 3,
   "id": "82f5fd5e-1af4-4150-80c4-bffddca1a1ec",
   "metadata": {
    "tags": []
   },
   "outputs": [],
   "source": [
    "# Data wrangling libraries\n",
    "import numpy as np\n",
    "import pandas as pd\n",
    "import os\n",
    "\n",
    "# Data visualization libraries\n",
    "import matplotlib.pyplot as plt\n",
    "import seaborn as sns\n",
    "\n",
    "%matplotlib inline"
   ]
  },
  {
   "cell_type": "code",
   "execution_count": 4,
   "id": "8ae42133-6ceb-43ac-be77-e13f00eb087e",
   "metadata": {
    "tags": []
   },
   "outputs": [],
   "source": [
    "# modelling\n",
    "from sklearn.model_selection import train_test_split, StratifiedKFold, cross_val_score, GridSearchCV, learning_curve\n",
    "from sklearn.linear_model import LogisticRegression\n",
    "from sklearn.tree import DecisionTreeClassifier\n",
    "from sklearn.ensemble import RandomForestClassifier, GradientBoostingClassifier\n",
    "from sklearn.svm import SVC\n",
    "from sklearn.neighbors import KNeighborsClassifier\n",
    "from sklearn.pipeline import Pipeline"
   ]
  },
  {
   "cell_type": "code",
   "execution_count": 5,
   "id": "ea5f263b-4d2c-4c95-9337-0bf7aeaaf274",
   "metadata": {
    "tags": []
   },
   "outputs": [],
   "source": [
    "# evaluation metrics libraries\n",
    "from sklearn.metrics import classification_report, confusion_matrix\n",
    "from sklearn.metrics import (precision_score, recall_score, f1_score,accuracy_score)"
   ]
  },
  {
   "cell_type": "code",
   "execution_count": 6,
   "id": "e5aa8fec-30a9-461b-b972-b9017e7ded20",
   "metadata": {
    "tags": []
   },
   "outputs": [],
   "source": [
    "# Construct the directory containing the CSV files\n",
    "current_dir = os.getcwd()  # Get the current working directory\n",
    "data_dir = os.path.join(current_dir, '..', 'data') \n",
    "\n",
    "# List of file names to read\n",
    "file_names = ['global_df.csv']\n",
    "\n",
    "# Initialize a dictionary to store DataFrames\n",
    "dataframes = {}\n",
    "\n",
    "# Loop through the file names, read each file, and store in the dictionary\n",
    "for file_name in file_names:\n",
    "    file_path = os.path.join(data_dir, file_name)  # Construct the full file path\n",
    "    dataframes[file_name] = pd.read_csv(file_path, index_col=0)  # Read the CSV file and store in the dictionary\n",
    "\n",
    "# Access the DataFrames using their file names\n",
    "global_df = dataframes['global_df.csv']"
   ]
  },
  {
   "cell_type": "code",
   "execution_count": 7,
   "id": "f733fe72-401d-411d-9dbb-6991441e0ebb",
   "metadata": {
    "tags": []
   },
   "outputs": [
    {
     "data": {
      "text/plain": [
       "Index(['sample_id', 'rock_name', 'qap_name', 'major_id', 'method_id', 'sio2',\n",
       "       'tio2', 'al2o3', 'fe2o3', 'mgo', 'cao', 'mno', 'k2o', 'na2o', 'p2o5',\n",
       "       'rock_type'],\n",
       "      dtype='object')"
      ]
     },
     "execution_count": 7,
     "metadata": {},
     "output_type": "execute_result"
    }
   ],
   "source": [
    "global_df.columns"
   ]
  },
  {
   "cell_type": "code",
   "execution_count": 8,
   "id": "f4000a0a-14c9-4fb4-9243-d5df50da89cb",
   "metadata": {
    "tags": []
   },
   "outputs": [
    {
     "data": {
      "text/html": [
       "<div>\n",
       "<style scoped>\n",
       "    .dataframe tbody tr th:only-of-type {\n",
       "        vertical-align: middle;\n",
       "    }\n",
       "\n",
       "    .dataframe tbody tr th {\n",
       "        vertical-align: top;\n",
       "    }\n",
       "\n",
       "    .dataframe thead th {\n",
       "        text-align: right;\n",
       "    }\n",
       "</style>\n",
       "<table border=\"1\" class=\"dataframe\">\n",
       "  <thead>\n",
       "    <tr style=\"text-align: right;\">\n",
       "      <th></th>\n",
       "      <th>sample_id</th>\n",
       "      <th>rock_name</th>\n",
       "      <th>qap_name</th>\n",
       "      <th>major_id</th>\n",
       "      <th>method_id</th>\n",
       "      <th>sio2</th>\n",
       "      <th>tio2</th>\n",
       "      <th>al2o3</th>\n",
       "      <th>fe2o3</th>\n",
       "      <th>mgo</th>\n",
       "      <th>cao</th>\n",
       "      <th>mno</th>\n",
       "      <th>k2o</th>\n",
       "      <th>na2o</th>\n",
       "      <th>p2o5</th>\n",
       "      <th>rock_type</th>\n",
       "    </tr>\n",
       "  </thead>\n",
       "  <tbody>\n",
       "    <tr>\n",
       "      <th>6</th>\n",
       "      <td>51</td>\n",
       "      <td>bt granite</td>\n",
       "      <td>monzogranite</td>\n",
       "      <td>583272</td>\n",
       "      <td>5254</td>\n",
       "      <td>74.05</td>\n",
       "      <td>0.25</td>\n",
       "      <td>13.77</td>\n",
       "      <td>0.29</td>\n",
       "      <td>0.29</td>\n",
       "      <td>1.37</td>\n",
       "      <td>0.05</td>\n",
       "      <td>4.00</td>\n",
       "      <td>3.46</td>\n",
       "      <td>0.06</td>\n",
       "      <td>granite</td>\n",
       "    </tr>\n",
       "    <tr>\n",
       "      <th>7</th>\n",
       "      <td>52</td>\n",
       "      <td>coarse-grained bt granite</td>\n",
       "      <td>monzogranite</td>\n",
       "      <td>521229</td>\n",
       "      <td>5254</td>\n",
       "      <td>69.28</td>\n",
       "      <td>0.31</td>\n",
       "      <td>14.91</td>\n",
       "      <td>0.53</td>\n",
       "      <td>0.88</td>\n",
       "      <td>2.23</td>\n",
       "      <td>0.08</td>\n",
       "      <td>4.43</td>\n",
       "      <td>3.15</td>\n",
       "      <td>0.10</td>\n",
       "      <td>granite</td>\n",
       "    </tr>\n",
       "    <tr>\n",
       "      <th>153</th>\n",
       "      <td>381</td>\n",
       "      <td>granite</td>\n",
       "      <td>monzogranite</td>\n",
       "      <td>537177</td>\n",
       "      <td>5379</td>\n",
       "      <td>70.57</td>\n",
       "      <td>0.39</td>\n",
       "      <td>14.78</td>\n",
       "      <td>0.40</td>\n",
       "      <td>0.77</td>\n",
       "      <td>2.60</td>\n",
       "      <td>0.09</td>\n",
       "      <td>3.57</td>\n",
       "      <td>3.18</td>\n",
       "      <td>0.11</td>\n",
       "      <td>granite</td>\n",
       "    </tr>\n",
       "    <tr>\n",
       "      <th>154</th>\n",
       "      <td>382</td>\n",
       "      <td>granite</td>\n",
       "      <td>monzogranite</td>\n",
       "      <td>565484</td>\n",
       "      <td>5379</td>\n",
       "      <td>72.72</td>\n",
       "      <td>0.11</td>\n",
       "      <td>14.67</td>\n",
       "      <td>0.56</td>\n",
       "      <td>0.21</td>\n",
       "      <td>1.20</td>\n",
       "      <td>0.07</td>\n",
       "      <td>4.63</td>\n",
       "      <td>3.76</td>\n",
       "      <td>0.06</td>\n",
       "      <td>granite</td>\n",
       "    </tr>\n",
       "    <tr>\n",
       "      <th>155</th>\n",
       "      <td>383</td>\n",
       "      <td>granite</td>\n",
       "      <td>monzogranite</td>\n",
       "      <td>588241</td>\n",
       "      <td>5379</td>\n",
       "      <td>74.44</td>\n",
       "      <td>0.10</td>\n",
       "      <td>14.07</td>\n",
       "      <td>0.40</td>\n",
       "      <td>0.24</td>\n",
       "      <td>1.24</td>\n",
       "      <td>0.05</td>\n",
       "      <td>4.28</td>\n",
       "      <td>3.60</td>\n",
       "      <td>0.06</td>\n",
       "      <td>granite</td>\n",
       "    </tr>\n",
       "    <tr>\n",
       "      <th>...</th>\n",
       "      <td>...</td>\n",
       "      <td>...</td>\n",
       "      <td>...</td>\n",
       "      <td>...</td>\n",
       "      <td>...</td>\n",
       "      <td>...</td>\n",
       "      <td>...</td>\n",
       "      <td>...</td>\n",
       "      <td>...</td>\n",
       "      <td>...</td>\n",
       "      <td>...</td>\n",
       "      <td>...</td>\n",
       "      <td>...</td>\n",
       "      <td>...</td>\n",
       "      <td>...</td>\n",
       "      <td>...</td>\n",
       "    </tr>\n",
       "    <tr>\n",
       "      <th>47196</th>\n",
       "      <td>1022064</td>\n",
       "      <td>dyke</td>\n",
       "      <td>monzogranite</td>\n",
       "      <td>526989</td>\n",
       "      <td>1</td>\n",
       "      <td>69.75</td>\n",
       "      <td>0.33</td>\n",
       "      <td>12.11</td>\n",
       "      <td>5.74</td>\n",
       "      <td>0.04</td>\n",
       "      <td>0.09</td>\n",
       "      <td>0.07</td>\n",
       "      <td>5.01</td>\n",
       "      <td>6.13</td>\n",
       "      <td>0.06</td>\n",
       "      <td>granite</td>\n",
       "    </tr>\n",
       "    <tr>\n",
       "      <th>47197</th>\n",
       "      <td>1022066</td>\n",
       "      <td>dyke</td>\n",
       "      <td>monzogranite</td>\n",
       "      <td>545737</td>\n",
       "      <td>1</td>\n",
       "      <td>71.22</td>\n",
       "      <td>0.16</td>\n",
       "      <td>12.09</td>\n",
       "      <td>4.62</td>\n",
       "      <td>0.10</td>\n",
       "      <td>0.38</td>\n",
       "      <td>0.07</td>\n",
       "      <td>3.76</td>\n",
       "      <td>6.85</td>\n",
       "      <td>0.04</td>\n",
       "      <td>granite</td>\n",
       "    </tr>\n",
       "    <tr>\n",
       "      <th>47198</th>\n",
       "      <td>1022067</td>\n",
       "      <td>dyke</td>\n",
       "      <td>monzogranite</td>\n",
       "      <td>588567</td>\n",
       "      <td>1</td>\n",
       "      <td>74.48</td>\n",
       "      <td>0.18</td>\n",
       "      <td>11.08</td>\n",
       "      <td>3.69</td>\n",
       "      <td>0.03</td>\n",
       "      <td>0.08</td>\n",
       "      <td>0.07</td>\n",
       "      <td>4.25</td>\n",
       "      <td>5.51</td>\n",
       "      <td>0.04</td>\n",
       "      <td>granite</td>\n",
       "    </tr>\n",
       "    <tr>\n",
       "      <th>47200</th>\n",
       "      <td>1022087</td>\n",
       "      <td>charnockite</td>\n",
       "      <td>monzogranite</td>\n",
       "      <td>542328</td>\n",
       "      <td>1</td>\n",
       "      <td>70.99</td>\n",
       "      <td>0.50</td>\n",
       "      <td>13.63</td>\n",
       "      <td>1.63</td>\n",
       "      <td>0.42</td>\n",
       "      <td>1.95</td>\n",
       "      <td>0.04</td>\n",
       "      <td>5.27</td>\n",
       "      <td>3.10</td>\n",
       "      <td>0.15</td>\n",
       "      <td>granite</td>\n",
       "    </tr>\n",
       "    <tr>\n",
       "      <th>47201</th>\n",
       "      <td>1022090</td>\n",
       "      <td>charnockite</td>\n",
       "      <td>monzogranite</td>\n",
       "      <td>422311</td>\n",
       "      <td>1</td>\n",
       "      <td>60.71</td>\n",
       "      <td>1.09</td>\n",
       "      <td>13.89</td>\n",
       "      <td>4.29</td>\n",
       "      <td>0.41</td>\n",
       "      <td>4.40</td>\n",
       "      <td>0.20</td>\n",
       "      <td>4.37</td>\n",
       "      <td>2.83</td>\n",
       "      <td>0.30</td>\n",
       "      <td>granite</td>\n",
       "    </tr>\n",
       "  </tbody>\n",
       "</table>\n",
       "<p>24572 rows × 16 columns</p>\n",
       "</div>"
      ],
      "text/plain": [
       "       sample_id                  rock_name      qap_name  major_id  \\\n",
       "6             51                 bt granite  monzogranite    583272   \n",
       "7             52  coarse-grained bt granite  monzogranite    521229   \n",
       "153          381                    granite  monzogranite    537177   \n",
       "154          382                    granite  monzogranite    565484   \n",
       "155          383                    granite  monzogranite    588241   \n",
       "...          ...                        ...           ...       ...   \n",
       "47196    1022064                       dyke  monzogranite    526989   \n",
       "47197    1022066                       dyke  monzogranite    545737   \n",
       "47198    1022067                       dyke  monzogranite    588567   \n",
       "47200    1022087                charnockite  monzogranite    542328   \n",
       "47201    1022090                charnockite  monzogranite    422311   \n",
       "\n",
       "       method_id   sio2  tio2  al2o3  fe2o3   mgo   cao   mno   k2o  na2o  \\\n",
       "6           5254  74.05  0.25  13.77   0.29  0.29  1.37  0.05  4.00  3.46   \n",
       "7           5254  69.28  0.31  14.91   0.53  0.88  2.23  0.08  4.43  3.15   \n",
       "153         5379  70.57  0.39  14.78   0.40  0.77  2.60  0.09  3.57  3.18   \n",
       "154         5379  72.72  0.11  14.67   0.56  0.21  1.20  0.07  4.63  3.76   \n",
       "155         5379  74.44  0.10  14.07   0.40  0.24  1.24  0.05  4.28  3.60   \n",
       "...          ...    ...   ...    ...    ...   ...   ...   ...   ...   ...   \n",
       "47196          1  69.75  0.33  12.11   5.74  0.04  0.09  0.07  5.01  6.13   \n",
       "47197          1  71.22  0.16  12.09   4.62  0.10  0.38  0.07  3.76  6.85   \n",
       "47198          1  74.48  0.18  11.08   3.69  0.03  0.08  0.07  4.25  5.51   \n",
       "47200          1  70.99  0.50  13.63   1.63  0.42  1.95  0.04  5.27  3.10   \n",
       "47201          1  60.71  1.09  13.89   4.29  0.41  4.40  0.20  4.37  2.83   \n",
       "\n",
       "       p2o5 rock_type  \n",
       "6      0.06   granite  \n",
       "7      0.10   granite  \n",
       "153    0.11   granite  \n",
       "154    0.06   granite  \n",
       "155    0.06   granite  \n",
       "...     ...       ...  \n",
       "47196  0.06   granite  \n",
       "47197  0.04   granite  \n",
       "47198  0.04   granite  \n",
       "47200  0.15   granite  \n",
       "47201  0.30   granite  \n",
       "\n",
       "[24572 rows x 16 columns]"
      ]
     },
     "execution_count": 8,
     "metadata": {},
     "output_type": "execute_result"
    }
   ],
   "source": [
    "global_df"
   ]
  },
  {
   "cell_type": "code",
   "execution_count": 9,
   "id": "a169234b-54d4-41a7-8384-b854a1958444",
   "metadata": {
    "tags": []
   },
   "outputs": [],
   "source": [
    "X = global_df[['sio2', 'tio2', 'al2o3', 'fe2o3', 'mgo', 'cao', 'mno', 'k2o', 'na2o', 'p2o5']]\n",
    "y = global_df['rock_type']"
   ]
  },
  {
   "cell_type": "code",
   "execution_count": 10,
   "id": "86115383-ec88-4141-a3f1-230f8847b8da",
   "metadata": {
    "tags": []
   },
   "outputs": [],
   "source": [
    "X_train, X_test, y_train, y_test = train_test_split(X, y, test_size=0.30, random_state=13)"
   ]
  },
  {
   "cell_type": "code",
   "execution_count": 11,
   "id": "fefbf3cd-d11b-4725-a020-0e9e1a61d2c7",
   "metadata": {
    "tags": []
   },
   "outputs": [
    {
     "name": "stdout",
     "output_type": "stream",
     "text": [
      "Evaluating Logistic Regression...\n",
      "Validation Classification Report for Logistic Regression:\n",
      "              precision    recall  f1-score   support\n",
      "\n",
      "     diorite       1.00      1.00      1.00       911\n",
      "     granite       1.00      1.00      1.00      6461\n",
      "\n",
      "    accuracy                           1.00      7372\n",
      "   macro avg       1.00      1.00      1.00      7372\n",
      "weighted avg       1.00      1.00      1.00      7372\n",
      "\n",
      "Confusion Matrix for Logistic Regression:\n",
      "[[ 911    0]\n",
      " [   1 6460]]\n",
      "------------------------------------------\n",
      "Evaluating Random Forest...\n",
      "Validation Classification Report for Random Forest:\n",
      "              precision    recall  f1-score   support\n",
      "\n",
      "     diorite       1.00      1.00      1.00       911\n",
      "     granite       1.00      1.00      1.00      6461\n",
      "\n",
      "    accuracy                           1.00      7372\n",
      "   macro avg       1.00      1.00      1.00      7372\n",
      "weighted avg       1.00      1.00      1.00      7372\n",
      "\n",
      "Confusion Matrix for Random Forest:\n",
      "[[ 910    1]\n",
      " [   0 6461]]\n",
      "------------------------------------------\n",
      "Evaluating Decision Tree...\n",
      "Validation Classification Report for Decision Tree:\n",
      "              precision    recall  f1-score   support\n",
      "\n",
      "     diorite       1.00      1.00      1.00       911\n",
      "     granite       1.00      1.00      1.00      6461\n",
      "\n",
      "    accuracy                           1.00      7372\n",
      "   macro avg       1.00      1.00      1.00      7372\n",
      "weighted avg       1.00      1.00      1.00      7372\n",
      "\n",
      "Confusion Matrix for Decision Tree:\n",
      "[[ 910    1]\n",
      " [   1 6460]]\n",
      "------------------------------------------\n",
      "Evaluating KNN...\n",
      "Validation Classification Report for KNN:\n",
      "              precision    recall  f1-score   support\n",
      "\n",
      "     diorite       1.00      1.00      1.00       911\n",
      "     granite       1.00      1.00      1.00      6461\n",
      "\n",
      "    accuracy                           1.00      7372\n",
      "   macro avg       1.00      1.00      1.00      7372\n",
      "weighted avg       1.00      1.00      1.00      7372\n",
      "\n",
      "Confusion Matrix for KNN:\n",
      "[[ 910    1]\n",
      " [   3 6458]]\n",
      "------------------------------------------\n",
      "Evaluating SVM...\n",
      "Validation Classification Report for SVM:\n",
      "              precision    recall  f1-score   support\n",
      "\n",
      "     diorite       1.00      1.00      1.00       911\n",
      "     granite       1.00      1.00      1.00      6461\n",
      "\n",
      "    accuracy                           1.00      7372\n",
      "   macro avg       1.00      1.00      1.00      7372\n",
      "weighted avg       1.00      1.00      1.00      7372\n",
      "\n",
      "Confusion Matrix for SVM:\n",
      "[[ 911    0]\n",
      " [   4 6457]]\n",
      "------------------------------------------\n",
      "Evaluating Gradient Boosting...\n",
      "Validation Classification Report for Gradient Boosting:\n",
      "              precision    recall  f1-score   support\n",
      "\n",
      "     diorite       1.00      1.00      1.00       911\n",
      "     granite       1.00      1.00      1.00      6461\n",
      "\n",
      "    accuracy                           1.00      7372\n",
      "   macro avg       1.00      1.00      1.00      7372\n",
      "weighted avg       1.00      1.00      1.00      7372\n",
      "\n",
      "Confusion Matrix for Gradient Boosting:\n",
      "[[ 909    2]\n",
      " [   0 6461]]\n",
      "------------------------------------------\n"
     ]
    }
   ],
   "source": [
    "pipelines = {\n",
    "    'Logistic Regression': Pipeline([\n",
    "        ('classifier', LogisticRegression(max_iter=1000))\n",
    "    ]),\n",
    "    'Random Forest': Pipeline([\n",
    "        ('classifier', RandomForestClassifier(random_state=13))\n",
    "    ]),\n",
    "    'Decision Tree': Pipeline([\n",
    "        ('classifier', DecisionTreeClassifier(random_state=13))\n",
    "    ]),\n",
    "    'KNN': Pipeline([\n",
    "        ('classifier', KNeighborsClassifier())\n",
    "    ]),\n",
    "    'SVM': Pipeline([\n",
    "        ('classifier', SVC(random_state=13))\n",
    "    ]),\n",
    "    'Gradient Boosting': Pipeline([\n",
    "        ('classifier', GradientBoostingClassifier(random_state=13))\n",
    "    ])\n",
    "}\n",
    "\n",
    "# Train and evaluate each model\n",
    "for model_name, pipeline in pipelines.items():\n",
    "    print(f\"Evaluating {model_name}...\")\n",
    "    \n",
    "    # Train the model on the global dataset\n",
    "    pipeline.fit(X_train, y_train)\n",
    "    \n",
    "    # Evaluate on the validation set\n",
    "    predictions = pipeline.predict(X_test)\n",
    "    print(f\"Validation Classification Report for {model_name}:\")\n",
    "    print(classification_report(y_test, predictions))\n",
    "    \n",
    "    # Confusion matrix for validation set\n",
    "    print(f\"Confusion Matrix for {model_name}:\")\n",
    "    print(confusion_matrix(y_test, predictions))\n",
    "    \n",
    "    # Hyperparameter tuning \n",
    "    # Note: You can add hyperparameter tuning as needed for each model\n",
    "    \n",
    "    # Final evaluation on the test set with hyperparameter tuning\n",
    "#     y_test_pred = pipeline.predict(X_test)\n",
    "#     print(f\"Test Classification Report for {model_name}:\")\n",
    "#     print(classification_report(y_test, y_test_pred))\n",
    "    \n",
    "#     # Confusion matrix for test set\n",
    "#     print(f\"Confusion Matrix for {model_name}:\")\n",
    "#     print(confusion_matrix(y_test, y_test_pred))\n",
    "    \n",
    "    print(\"------------------------------------------\")"
   ]
  },
  {
   "cell_type": "markdown",
   "id": "6b3f1bf5-0e29-44ca-acf3-dfee35bb3eac",
   "metadata": {},
   "source": [
    "# Performance measures"
   ]
  },
  {
   "cell_type": "markdown",
   "id": "857da994-b7c3-4ae4-919d-79c509b9266f",
   "metadata": {},
   "source": [
    "## Measuring accuracy using cross-validation"
   ]
  },
  {
   "cell_type": "code",
   "execution_count": 14,
   "id": "88793dc5-e741-4ae1-ad28-f8687b129f45",
   "metadata": {
    "tags": []
   },
   "outputs": [
    {
     "data": {
      "text/html": [
       "<style>#sk-container-id-1 {color: black;}#sk-container-id-1 pre{padding: 0;}#sk-container-id-1 div.sk-toggleable {background-color: white;}#sk-container-id-1 label.sk-toggleable__label {cursor: pointer;display: block;width: 100%;margin-bottom: 0;padding: 0.3em;box-sizing: border-box;text-align: center;}#sk-container-id-1 label.sk-toggleable__label-arrow:before {content: \"▸\";float: left;margin-right: 0.25em;color: #696969;}#sk-container-id-1 label.sk-toggleable__label-arrow:hover:before {color: black;}#sk-container-id-1 div.sk-estimator:hover label.sk-toggleable__label-arrow:before {color: black;}#sk-container-id-1 div.sk-toggleable__content {max-height: 0;max-width: 0;overflow: hidden;text-align: left;background-color: #f0f8ff;}#sk-container-id-1 div.sk-toggleable__content pre {margin: 0.2em;color: black;border-radius: 0.25em;background-color: #f0f8ff;}#sk-container-id-1 input.sk-toggleable__control:checked~div.sk-toggleable__content {max-height: 200px;max-width: 100%;overflow: auto;}#sk-container-id-1 input.sk-toggleable__control:checked~label.sk-toggleable__label-arrow:before {content: \"▾\";}#sk-container-id-1 div.sk-estimator input.sk-toggleable__control:checked~label.sk-toggleable__label {background-color: #d4ebff;}#sk-container-id-1 div.sk-label input.sk-toggleable__control:checked~label.sk-toggleable__label {background-color: #d4ebff;}#sk-container-id-1 input.sk-hidden--visually {border: 0;clip: rect(1px 1px 1px 1px);clip: rect(1px, 1px, 1px, 1px);height: 1px;margin: -1px;overflow: hidden;padding: 0;position: absolute;width: 1px;}#sk-container-id-1 div.sk-estimator {font-family: monospace;background-color: #f0f8ff;border: 1px dotted black;border-radius: 0.25em;box-sizing: border-box;margin-bottom: 0.5em;}#sk-container-id-1 div.sk-estimator:hover {background-color: #d4ebff;}#sk-container-id-1 div.sk-parallel-item::after {content: \"\";width: 100%;border-bottom: 1px solid gray;flex-grow: 1;}#sk-container-id-1 div.sk-label:hover label.sk-toggleable__label {background-color: #d4ebff;}#sk-container-id-1 div.sk-serial::before {content: \"\";position: absolute;border-left: 1px solid gray;box-sizing: border-box;top: 0;bottom: 0;left: 50%;z-index: 0;}#sk-container-id-1 div.sk-serial {display: flex;flex-direction: column;align-items: center;background-color: white;padding-right: 0.2em;padding-left: 0.2em;position: relative;}#sk-container-id-1 div.sk-item {position: relative;z-index: 1;}#sk-container-id-1 div.sk-parallel {display: flex;align-items: stretch;justify-content: center;background-color: white;position: relative;}#sk-container-id-1 div.sk-item::before, #sk-container-id-1 div.sk-parallel-item::before {content: \"\";position: absolute;border-left: 1px solid gray;box-sizing: border-box;top: 0;bottom: 0;left: 50%;z-index: -1;}#sk-container-id-1 div.sk-parallel-item {display: flex;flex-direction: column;z-index: 1;position: relative;background-color: white;}#sk-container-id-1 div.sk-parallel-item:first-child::after {align-self: flex-end;width: 50%;}#sk-container-id-1 div.sk-parallel-item:last-child::after {align-self: flex-start;width: 50%;}#sk-container-id-1 div.sk-parallel-item:only-child::after {width: 0;}#sk-container-id-1 div.sk-dashed-wrapped {border: 1px dashed gray;margin: 0 0.4em 0.5em 0.4em;box-sizing: border-box;padding-bottom: 0.4em;background-color: white;}#sk-container-id-1 div.sk-label label {font-family: monospace;font-weight: bold;display: inline-block;line-height: 1.2em;}#sk-container-id-1 div.sk-label-container {text-align: center;}#sk-container-id-1 div.sk-container {/* jupyter's `normalize.less` sets `[hidden] { display: none; }` but bootstrap.min.css set `[hidden] { display: none !important; }` so we also need the `!important` here to be able to override the default hidden behavior on the sphinx rendered scikit-learn.org. See: https://github.com/scikit-learn/scikit-learn/issues/21755 */display: inline-block !important;position: relative;}#sk-container-id-1 div.sk-text-repr-fallback {display: none;}</style><div id=\"sk-container-id-1\" class=\"sk-top-container\"><div class=\"sk-text-repr-fallback\"><pre>Pipeline(steps=[(&#x27;standardscaler&#x27;, StandardScaler()),\n",
       "                (&#x27;logisticregression&#x27;, LogisticRegression(max_iter=1000))])</pre><b>In a Jupyter environment, please rerun this cell to show the HTML representation or trust the notebook. <br />On GitHub, the HTML representation is unable to render, please try loading this page with nbviewer.org.</b></div><div class=\"sk-container\" hidden><div class=\"sk-item sk-dashed-wrapped\"><div class=\"sk-label-container\"><div class=\"sk-label sk-toggleable\"><input class=\"sk-toggleable__control sk-hidden--visually\" id=\"sk-estimator-id-1\" type=\"checkbox\" ><label for=\"sk-estimator-id-1\" class=\"sk-toggleable__label sk-toggleable__label-arrow\">Pipeline</label><div class=\"sk-toggleable__content\"><pre>Pipeline(steps=[(&#x27;standardscaler&#x27;, StandardScaler()),\n",
       "                (&#x27;logisticregression&#x27;, LogisticRegression(max_iter=1000))])</pre></div></div></div><div class=\"sk-serial\"><div class=\"sk-item\"><div class=\"sk-estimator sk-toggleable\"><input class=\"sk-toggleable__control sk-hidden--visually\" id=\"sk-estimator-id-2\" type=\"checkbox\" ><label for=\"sk-estimator-id-2\" class=\"sk-toggleable__label sk-toggleable__label-arrow\">StandardScaler</label><div class=\"sk-toggleable__content\"><pre>StandardScaler()</pre></div></div></div><div class=\"sk-item\"><div class=\"sk-estimator sk-toggleable\"><input class=\"sk-toggleable__control sk-hidden--visually\" id=\"sk-estimator-id-3\" type=\"checkbox\" ><label for=\"sk-estimator-id-3\" class=\"sk-toggleable__label sk-toggleable__label-arrow\">LogisticRegression</label><div class=\"sk-toggleable__content\"><pre>LogisticRegression(max_iter=1000)</pre></div></div></div></div></div></div></div>"
      ],
      "text/plain": [
       "Pipeline(steps=[('standardscaler', StandardScaler()),\n",
       "                ('logisticregression', LogisticRegression(max_iter=1000))])"
      ]
     },
     "execution_count": 14,
     "metadata": {},
     "output_type": "execute_result"
    }
   ],
   "source": [
    "from sklearn.preprocessing import StandardScaler\n",
    "from sklearn.linear_model import LogisticRegression\n",
    "from sklearn.pipeline import make_pipeline\n",
    "\n",
    "scaler = StandardScaler()\n",
    "model = LogisticRegression(max_iter=1000)\n",
    "pipeline = make_pipeline(scaler, model)\n",
    "pipeline.fit(X_train, y_train)"
   ]
  },
  {
   "cell_type": "code",
   "execution_count": 56,
   "id": "6795c012-4fdd-452e-9ed1-131143618b7b",
   "metadata": {
    "tags": []
   },
   "outputs": [
    {
     "name": "stdout",
     "output_type": "stream",
     "text": [
      "Validation Classification Report for Logistic Regression:\n",
      "              precision    recall  f1-score   support\n",
      "\n",
      "     diorite       1.00      1.00      1.00       911\n",
      "     granite       1.00      1.00      1.00      6461\n",
      "\n",
      "    accuracy                           1.00      7372\n",
      "   macro avg       1.00      1.00      1.00      7372\n",
      "weighted avg       1.00      1.00      1.00      7372\n",
      "\n"
     ]
    }
   ],
   "source": [
    "predictions = pipeline.predict(X_test)\n",
    "print(f\"Validation Classification Report for Logistic Regression:\")\n",
    "print(classification_report(y_test, predictions))"
   ]
  },
  {
   "cell_type": "code",
   "execution_count": 58,
   "id": "7009085c-70ff-41c6-a0ea-d91c50d4f255",
   "metadata": {},
   "outputs": [
    {
     "name": "stdout",
     "output_type": "stream",
     "text": [
      "Confusion Matrix for Logistic Regression:\n",
      "[[ 911    0]\n",
      " [   1 6460]]\n"
     ]
    }
   ],
   "source": [
    "print(f\"Confusion Matrix for Logistic Regression:\")\n",
    "print(confusion_matrix(y_test, predictions))"
   ]
  },
  {
   "cell_type": "code",
   "execution_count": 17,
   "id": "6114feff-53bd-442d-aff2-0c7bfa9e99c6",
   "metadata": {
    "tags": []
   },
   "outputs": [],
   "source": [
    "from sklearn.model_selection import StratifiedKFold\n",
    "# from sklearn.base import clone"
   ]
  },
  {
   "cell_type": "code",
   "execution_count": 18,
   "id": "e0f43368-77ec-43fa-a09a-151d1e8cae84",
   "metadata": {
    "tags": []
   },
   "outputs": [],
   "source": [
    "scores = cross_val_score(model, X_train, y_train, cv=5, scoring='accuracy')"
   ]
  },
  {
   "cell_type": "code",
   "execution_count": 19,
   "id": "e3b2176d-9e4a-4d6b-8bb4-267b696a6a36",
   "metadata": {
    "tags": []
   },
   "outputs": [
    {
     "name": "stdout",
     "output_type": "stream",
     "text": [
      "Cross-validation scores: [1.        0.9997093 0.9997093 1.        0.9994186]\n",
      "Mean accuracy: 0.9997674418604652\n",
      "Standard deviation: 0.00021753822016125943\n"
     ]
    }
   ],
   "source": [
    "print(\"Cross-validation scores:\", scores)\n",
    "print(\"Mean accuracy:\", scores.mean())\n",
    "print(\"Standard deviation:\", scores.std())"
   ]
  },
  {
   "cell_type": "markdown",
   "id": "4ddcf9a8-dec9-4be9-8f94-0eb0352daa15",
   "metadata": {
    "tags": []
   },
   "source": [
    "### Ensure that your model is not overfitting by reviewing the complexity of the model and the nature of the data."
   ]
  },
  {
   "cell_type": "code",
   "execution_count": 21,
   "id": "cb78d7bf-42f8-414e-bcf4-b33943c52014",
   "metadata": {
    "tags": []
   },
   "outputs": [
    {
     "name": "stdout",
     "output_type": "stream",
     "text": [
      "Best parameters: {'C': 1}\n",
      "Best cross-validation score: 0.9997674418604652\n"
     ]
    }
   ],
   "source": [
    "param_grid = {'C': [0.01, 0.1, 1, 10, 100]}\n",
    "grid_search = GridSearchCV(LogisticRegression(max_iter=1000), param_grid, cv=5, scoring='accuracy')\n",
    "grid_search.fit(X_train, y_train)\n",
    "print(\"Best parameters:\", grid_search.best_params_)\n",
    "print(\"Best cross-validation score:\", grid_search.best_score_)"
   ]
  },
  {
   "cell_type": "code",
   "execution_count": 22,
   "id": "97368518-33c3-464b-b489-16dbe17b233d",
   "metadata": {
    "tags": []
   },
   "outputs": [],
   "source": [
    "# # Step 1: Import Necessary Libraries\n",
    "# from sklearn.feature_selection import SelectKBest, f_classif\n",
    "# from sklearn.datasets import load_iris  # Example dataset\n",
    "# from sklearn.linear_model import LogisticRegression\n",
    "# from sklearn.model_selection import train_test_split, cross_val_score\n",
    "\n",
    "# # Step 2: Load and Prepare Your Data\n",
    "# data = load_iris()\n",
    "# X = data.data  # Feature matrix\n",
    "# y = data.target  # Target vector\n",
    "\n",
    "# # Step 3: Select Top k Features\n",
    "# k = 2  # Number of top features to select, you can adjust this\n",
    "# selector = SelectKBest(f_classif, k=k)\n",
    "# X_new = selector.fit_transform(X, y)\n",
    "\n",
    "# # Step 4: Split the Data\n",
    "# X_train, X_test, y_train, y_test = train_test_split(X_new, y, test_size=0.3, random_state=42)\n",
    "\n",
    "# # Step 5: Train and Evaluate Your Model\n",
    "# model = LogisticRegression(max_iter=1000)\n",
    "# model.fit(X_train, y_train)\n",
    "# score = model.score(X_test, y_test)\n",
    "# print(f\"Model accuracy with top {k} features: {score:.4f}\")\n",
    "\n",
    "# # Optional: Cross-Validation\n",
    "# scores = cross_val_score(model, X_new, y, cv=5, scoring='accuracy')\n",
    "# print(f\"Cross-validation scores with top {k} features: {scores}\")\n",
    "# print(f\"Mean accuracy: {scores.mean():.4f}\")\n",
    "# print(f\"Standard deviation: {scores.std():.4f}\")\n",
    "\n",
    "# # Optional: Analyzing Selected Features\n",
    "# selected_features = selector.get_support(indices=True)\n",
    "# print(\"Selected feature indices:\", selected_features)\n",
    "# print(\"Selected feature names:\", [data.feature_names[i] for i in selected_features])\n"
   ]
  },
  {
   "cell_type": "code",
   "execution_count": 53,
   "id": "f32d2596-f7aa-44bb-b531-40ec97cda750",
   "metadata": {
    "tags": []
   },
   "outputs": [
    {
     "data": {
      "image/png": "[encoded data removed]",
      "text/plain": [
       "<Figure size 640x480 with 1 Axes>"
      ]
     },
     "metadata": {},
     "output_type": "display_data"
    }
   ],
   "source": [
    "def plot_learning_curve(estimator, title, X, y, cv=None, n_jobs=None, train_sizes=np.linspace(0.1, 1.0, 5)):\n",
    "    plt.figure()\n",
    "    plt.title(title)\n",
    "    plt.xlabel(\"Training examples\")\n",
    "    plt.ylabel(\"Score\")\n",
    "\n",
    "    train_sizes, train_scores, test_scores = learning_curve(estimator, X, y, cv=cv, n_jobs=n_jobs, train_sizes=train_sizes)\n",
    "    train_scores_mean = np.mean(train_scores, axis=1)\n",
    "    train_scores_std = np.std(train_scores, axis=1)\n",
    "    test_scores_mean = np.mean(test_scores, axis=1)\n",
    "    test_scores_std = np.std(test_scores, axis=1)\n",
    "\n",
    "    plt.grid()\n",
    "\n",
    "    plt.fill_between(train_sizes, train_scores_mean - train_scores_std, train_scores_mean + train_scores_std, alpha=0.1, color=\"r\")\n",
    "    plt.fill_between(train_sizes, test_scores_mean - test_scores_std, test_scores_mean + test_scores_std, alpha=0.1, color=\"g\")\n",
    "    plt.plot(train_sizes, train_scores_mean, 'o-', color=\"r\", label=\"Training score\")\n",
    "    plt.plot(train_sizes, test_scores_mean, 'o-', color=\"g\", label=\"Cross-validation score\")\n",
    "\n",
    "    plt.legend(loc=\"best\")\n",
    "    return plt\n",
    "\n",
    "# Step 5: Train and Plot Learning Curve\n",
    "# model = LogisticRegression(max_iter=1000)\n",
    "title = \"Learning Curve (Logistic Regression)\"\n",
    "plot_learning_curve(model, title, X, y, cv=5, n_jobs=-1)\n",
    "\n",
    "plt.show()"
   ]
  },
  {
   "cell_type": "code",
   "execution_count": null,
   "id": "2ba14fe4-f1d0-412b-80d8-faa448a0ef0a",
   "metadata": {},
   "outputs": [],
   "source": []
  }
 ],
 "metadata": {
  "kernelspec": {
   "display_name": "Python 3 (ipykernel)",
   "language": "python",
   "name": "python3"
  },
  "language_info": {
   "codemirror_mode": {
    "name": "ipython",
    "version": 3
   },
   "file_extension": ".py",
   "mimetype": "text/x-python",
   "name": "python",
   "nbconvert_exporter": "python",
   "pygments_lexer": "ipython3",
   "version": "3.9.19"
  }
 },
 "nbformat": 4,
 "nbformat_minor": 5
}
